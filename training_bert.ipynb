{
 "cells": [
  {
   "cell_type": "markdown",
   "id": "cfdae26d",
   "metadata": {},
   "source": [
    "Importing and cleaning"
   ]
  },
  {
   "cell_type": "code",
   "execution_count": 7,
   "id": "9f0146e0",
   "metadata": {},
   "outputs": [],
   "source": [
    "import pandas as pd\n",
    "import numpy as np\n",
    "from bs4 import BeautifulSoup"
   ]
  },
  {
   "cell_type": "code",
   "execution_count": 5,
   "id": "7d73a488",
   "metadata": {},
   "outputs": [],
   "source": [
    "df = pd.read_csv('/Users/Niek/pollob/data/training_text.csv', index_col=0)"
   ]
  },
  {
   "cell_type": "code",
   "execution_count": 6,
   "id": "3356977f",
   "metadata": {},
   "outputs": [
    {
     "data": {
      "text/html": [
       "<div>\n",
       "<style scoped>\n",
       "    .dataframe tbody tr th:only-of-type {\n",
       "        vertical-align: middle;\n",
       "    }\n",
       "\n",
       "    .dataframe tbody tr th {\n",
       "        vertical-align: top;\n",
       "    }\n",
       "\n",
       "    .dataframe thead th {\n",
       "        text-align: right;\n",
       "    }\n",
       "</style>\n",
       "<table border=\"1\" class=\"dataframe\">\n",
       "  <thead>\n",
       "    <tr style=\"text-align: right;\">\n",
       "      <th></th>\n",
       "      <th>text</th>\n",
       "    </tr>\n",
       "  </thead>\n",
       "  <tbody>\n",
       "    <tr>\n",
       "      <th>1</th>\n",
       "      <td>&lt;p&gt;&lt;span&gt;mevrouw robeyns heeft het woord.&lt;/spa...</td>\n",
       "    </tr>\n",
       "    <tr>\n",
       "      <th>2</th>\n",
       "      <td>&lt;p&gt;&lt;span&gt;voorzitter, collegas, minister, we he...</td>\n",
       "    </tr>\n",
       "    <tr>\n",
       "      <th>3</th>\n",
       "      <td>&lt;p&gt;&lt;span&gt;de heer sanctorum heeft het woord.&lt;/s...</td>\n",
       "    </tr>\n",
       "    <tr>\n",
       "      <th>4</th>\n",
       "      <td>&lt;p&gt;&lt;span&gt;minister, ik denk dat het een van de ...</td>\n",
       "    </tr>\n",
       "    <tr>\n",
       "      <th>5</th>\n",
       "      <td>&lt;p&gt;&lt;span&gt;minister weyts heeft het woord.&lt;/span...</td>\n",
       "    </tr>\n",
       "    <tr>\n",
       "      <th>...</th>\n",
       "      <td>...</td>\n",
       "    </tr>\n",
       "    <tr>\n",
       "      <th>55607</th>\n",
       "      <td>&lt;p&gt;&lt;span&gt;mevrouw gennez heeft het woord.&lt;/span...</td>\n",
       "    </tr>\n",
       "    <tr>\n",
       "      <th>55608</th>\n",
       "      <td>&lt;p&gt;&lt;span&gt;het gazon is bijna helemaal afgereden...</td>\n",
       "    </tr>\n",
       "    <tr>\n",
       "      <th>55609</th>\n",
       "      <td>&lt;p&gt;&lt;span&gt;de heer vande reyde heeft het woord.&lt;...</td>\n",
       "    </tr>\n",
       "    <tr>\n",
       "      <th>55610</th>\n",
       "      <td>&lt;p&gt;&lt;span&gt;minister, ik ben blij dat we hier een...</td>\n",
       "    </tr>\n",
       "    <tr>\n",
       "      <th>55611</th>\n",
       "      <td>&lt;p&gt;&lt;span&gt;de actuele vragen zijn afgehandeld.&lt;/...</td>\n",
       "    </tr>\n",
       "  </tbody>\n",
       "</table>\n",
       "<p>55611 rows × 1 columns</p>\n",
       "</div>"
      ],
      "text/plain": [
       "                                                    text\n",
       "1      <p><span>mevrouw robeyns heeft het woord.</spa...\n",
       "2      <p><span>voorzitter, collegas, minister, we he...\n",
       "3      <p><span>de heer sanctorum heeft het woord.</s...\n",
       "4      <p><span>minister, ik denk dat het een van de ...\n",
       "5      <p><span>minister weyts heeft het woord.</span...\n",
       "...                                                  ...\n",
       "55607  <p><span>mevrouw gennez heeft het woord.</span...\n",
       "55608  <p><span>het gazon is bijna helemaal afgereden...\n",
       "55609  <p><span>de heer vande reyde heeft het woord.<...\n",
       "55610  <p><span>minister, ik ben blij dat we hier een...\n",
       "55611  <p><span>de actuele vragen zijn afgehandeld.</...\n",
       "\n",
       "[55611 rows x 1 columns]"
      ]
     },
     "execution_count": 6,
     "metadata": {},
     "output_type": "execute_result"
    }
   ],
   "source": [
    "df"
   ]
  },
  {
   "cell_type": "code",
   "execution_count": 11,
   "id": "a296fa11",
   "metadata": {},
   "outputs": [],
   "source": [
    "# loops over the text in the text column and applies BeautifulSoup to split text based on the html tags\n",
    "text_fragments = []\n",
    "for text in df['text']:\n",
    "    soup = BeautifulSoup(text, 'html.parser')\n",
    "    for sentence in soup.get_text().split('.'):\n",
    "        if sentence.strip():\n",
    "            text_fragments.append({'text': sentence.strip()})"
   ]
  },
  {
   "cell_type": "code",
   "execution_count": 13,
   "id": "a13554f4",
   "metadata": {},
   "outputs": [],
   "source": [
    "# cleaned df with text that was split with html tag in a new row\n",
    "cleaned_df = pd.DataFrame(text_fragments)"
   ]
  },
  {
   "cell_type": "markdown",
   "id": "51bae23a",
   "metadata": {},
   "source": [
    "Importing the BERT Transformers from Huggingface"
   ]
  },
  {
   "cell_type": "code",
   "execution_count": null,
   "id": "9f7c4c0f",
   "metadata": {},
   "outputs": [],
   "source": [
    "# NLPTown\n",
    "tokenizernlptown = AutoTokenizer.from_pretrained(\"nlptown/bert-base-multilingual-uncased-sentiment\")\n",
    "modelnlptown = AutoModelForSequenceClassification.from_pretrained(\"nlptown/bert-base-multilingual-uncased-sentiment\")\n",
    "\n",
    "def sentiment_score(text):\n",
    "    tokens = tokenizer.encode(text, return_tensors='pt')\n",
    "    result = model(tokens)\n",
    "    return int(torch.argmax(result.logits))+1\n",
    "\n",
    "annotated['label'].value_counts()\n",
    "#use tqdm to track progress of the apply function\n",
    "tqdm.pandas()  \n",
    "annotated['sentiment_score_multi'] = annotated['text'].progress_apply(lambda x: sentiment_score(x))\n",
    "# 32 seconds\n",
    "\n",
    "def analysis_multi(score):\n",
    "    if score < 3:\n",
    "        return -1\n",
    "    elif score == 3:\n",
    "        return 0\n",
    "    else:\n",
    "        return 1\n",
    "      \n",
    "annotated['sentiment_multi'] = annotated['sentiment_score_multi'].progress_apply(lambda x: analysis_multi(x))\n",
    "print(metrics.classification_report(annotated['label'],annotated['sentiment_multi'], digits = 3))"
   ]
  },
  {
   "cell_type": "code",
   "execution_count": null,
   "id": "9a70e55d",
   "metadata": {},
   "outputs": [],
   "source": [
    "# DTAI\n",
    "tokenizerDTAI = AutoTokenizer.from_pretrained(\"DTAI-KULeuven/robbert-v2-dutch-sentiment\")\n",
    "modelDTAI = AutoModelForSequenceClassification.from_pretrained(\"DTAI-KULeuven/robbert-v2-dutch-sentiment\")\n",
    "\n",
    "def softmax(z): return np.exp(z)/((np.exp(z)).sum())\n",
    "\n",
    "def sentiment_score_DTAI(text):\n",
    "    encoded_input = tokenizer(text, return_tensors='pt')\n",
    "    output = model(**encoded_input)\n",
    "    scores = output[0][0].detach().numpy()\n",
    "    scores = softmax(scores)\n",
    "    scores_dict = {\n",
    "    -1 : scores[0],\n",
    "    0 : scores[1],\n",
    "    1 : scores[2]\n",
    "  }\n",
    "    max_value = max(scores_dict, key=scores_dict.get)\n",
    "    return max_value\n",
    "  \n",
    "annotated['sentiment_score_DTAI'] = annotated['text'].progress_apply(lambda x: sentiment_score_DTAI(x))\n",
    "print(metrics.classification_report(annotated['label'],annotated['sentiment_score_DTAI'], digits = 3))"
   ]
  },
  {
   "cell_type": "code",
   "execution_count": null,
   "id": "a75a5ccb",
   "metadata": {},
   "outputs": [],
   "source": [
    "#gilesitorr finetuned\n",
    "tokenizergil = AutoTokenizer.from_pretrained(\"gilesitorr/bert-base-multilingual-uncased-sentiment-3labels\")\n",
    "modelgil = AutoModelForSequenceClassification.from_pretrained(\"gilesitorr/bert-base-multilingual-uncased-sentiment-3labels\")\n",
    "\n",
    "def sentiment_score_gil(text):\n",
    "    tokens = tokenizergil.encode(text, return_tensors='pt')\n",
    "    result = modelgil(tokens)\n",
    "    return int(torch.argmax(result.logits))+1\n",
    "  \n",
    "annotated['sentiment_score_gil'] = annotated['text'].progress_apply(lambda x: sentiment_score_gil(x))\n",
    "# -> took 30 seconds\n",
    "\n",
    "def analysis_gil(score):\n",
    "    if score == 3:\n",
    "        return 1\n",
    "    if score == 2:\n",
    "        return 0\n",
    "    elif score == 1:\n",
    "        return -1\n",
    "    \n",
    "annotated['sentiment_gil'] = annotated['sentiment_score_gil'].progress_apply(lambda x: analysis_gil(x))\n",
    "print(metrics.classification_report(annotated['label'],annotated['sentiment_gil'], digits = 3))"
   ]
  },
  {
   "cell_type": "code",
   "execution_count": null,
   "id": "522c596f",
   "metadata": {},
   "outputs": [],
   "source": [
    "#testing the agreement of the three models on the sample\n",
    "annotated['sentiment_multi'] = annotated['sentiment_score_multi'].progress_apply(lambda x: analysis_multi(x))\n",
    "annotated['sentiment_score_DTAI'] = annotated['text'].progress_apply(lambda x: sentiment_score_DTAI(x))\n",
    "annotated['sentiment_gil'] = annotated['sentiment_score_gil'].progress_apply(lambda x: analysis_gil(x))\n",
    "\n",
    "annotated['agreement_models'] = np.where((((annotated['sentiment_multi'])==(annotated['sentiment_score_DTAI']))& (annotated['sentiment_score_DTAI'] == annotated['sentiment_gil'])),annotated['sentiment_multi'],None)\n",
    "annotated['agreement_models'].sum() / len(annotated['text'])"
   ]
  }
 ],
 "metadata": {
  "kernelspec": {
   "display_name": "Python 3 (ipykernel)",
   "language": "python",
   "name": "python3"
  },
  "language_info": {
   "codemirror_mode": {
    "name": "ipython",
    "version": 3
   },
   "file_extension": ".py",
   "mimetype": "text/x-python",
   "name": "python",
   "nbconvert_exporter": "python",
   "pygments_lexer": "ipython3",
   "version": "3.9.12"
  }
 },
 "nbformat": 4,
 "nbformat_minor": 5
}
